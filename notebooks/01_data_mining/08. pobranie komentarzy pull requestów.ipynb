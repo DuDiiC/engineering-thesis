{
 "cells": [
  {
   "cell_type": "code",
   "execution_count": 1,
   "metadata": {},
   "outputs": [],
   "source": [
    "import pandas as pd\n",
    "\n",
    "from sqlalchemy import create_engine\n",
    "\n",
    "import sys\n",
    "sys.path.insert(1, '../../.')\n",
    "from src import config"
   ]
  },
  {
   "cell_type": "code",
   "execution_count": 2,
   "metadata": {},
   "outputs": [],
   "source": [
    "db_connection = create_engine(config.database['db_con_str'])"
   ]
  },
  {
   "cell_type": "markdown",
   "metadata": {},
   "source": [
    "## Pobranie i oczyszczenie danych komentarzy commitów"
   ]
  },
  {
   "cell_type": "code",
   "execution_count": 3,
   "metadata": {},
   "outputs": [],
   "source": [
    "pr_comments = pd.read_sql('pull_request_comments', con=db_connection)"
   ]
  },
  {
   "cell_type": "markdown",
   "metadata": {},
   "source": [
    "### Informacje o zbiorze"
   ]
  },
  {
   "cell_type": "code",
   "execution_count": 4,
   "metadata": {},
   "outputs": [
    {
     "data": {
      "text/plain": [
       "(54892, 8)"
      ]
     },
     "execution_count": 4,
     "metadata": {},
     "output_type": "execute_result"
    }
   ],
   "source": [
    "pr_comments.shape"
   ]
  },
  {
   "cell_type": "code",
   "execution_count": 5,
   "metadata": {},
   "outputs": [
    {
     "data": {
      "text/plain": [
       "pull_request_id             int64\n",
       "user_id                     int64\n",
       "comment_id                 object\n",
       "position                    int64\n",
       "body                       object\n",
       "commit_id                   int64\n",
       "created_at         datetime64[ns]\n",
       "ext_ref_id                 object\n",
       "dtype: object"
      ]
     },
     "execution_count": 5,
     "metadata": {},
     "output_type": "execute_result"
    }
   ],
   "source": [
    "pr_comments.dtypes"
   ]
  },
  {
   "cell_type": "code",
   "execution_count": 6,
   "metadata": {},
   "outputs": [
    {
     "name": "stdout",
     "output_type": "stream",
     "text": [
      "<class 'pandas.core.frame.DataFrame'>\n",
      "RangeIndex: 54892 entries, 0 to 54891\n",
      "Data columns (total 8 columns):\n",
      " #   Column           Non-Null Count  Dtype         \n",
      "---  ------           --------------  -----         \n",
      " 0   pull_request_id  54892 non-null  int64         \n",
      " 1   user_id          54892 non-null  int64         \n",
      " 2   comment_id       54892 non-null  object        \n",
      " 3   position         54892 non-null  int64         \n",
      " 4   body             54892 non-null  object        \n",
      " 5   commit_id        54892 non-null  int64         \n",
      " 6   created_at       54892 non-null  datetime64[ns]\n",
      " 7   ext_ref_id       54892 non-null  object        \n",
      "dtypes: datetime64[ns](1), int64(4), object(3)\n",
      "memory usage: 3.4+ MB\n"
     ]
    }
   ],
   "source": [
    "pr_comments.info()"
   ]
  },
  {
   "cell_type": "code",
   "execution_count": 7,
   "metadata": {
    "scrolled": true
   },
   "outputs": [
    {
     "name": "stdout",
     "output_type": "stream",
     "text": [
      "<class 'pandas.core.frame.DataFrame'>\n",
      "RangeIndex: 54892 entries, 0 to 54891\n",
      "Data columns (total 8 columns):\n",
      " #   Column           Non-Null Count  Dtype         \n",
      "---  ------           --------------  -----         \n",
      " 0   pull_request_id  54892 non-null  int64         \n",
      " 1   user_id          54892 non-null  int64         \n",
      " 2   comment_id       54892 non-null  object        \n",
      " 3   position         54892 non-null  int64         \n",
      " 4   body             54892 non-null  object        \n",
      " 5   commit_id        54892 non-null  int64         \n",
      " 6   created_at       54892 non-null  datetime64[ns]\n",
      " 7   ext_ref_id       54892 non-null  object        \n",
      "dtypes: datetime64[ns](1), int64(4), object(3)\n",
      "memory usage: 18.0 MB\n"
     ]
    }
   ],
   "source": [
    "pr_comments.info(memory_usage='deep')"
   ]
  },
  {
   "cell_type": "code",
   "execution_count": 8,
   "metadata": {},
   "outputs": [
    {
     "data": {
      "text/html": [
       "<div>\n",
       "<style scoped>\n",
       "    .dataframe tbody tr th:only-of-type {\n",
       "        vertical-align: middle;\n",
       "    }\n",
       "\n",
       "    .dataframe tbody tr th {\n",
       "        vertical-align: top;\n",
       "    }\n",
       "\n",
       "    .dataframe thead th {\n",
       "        text-align: right;\n",
       "    }\n",
       "</style>\n",
       "<table border=\"1\" class=\"dataframe\">\n",
       "  <thead>\n",
       "    <tr style=\"text-align: right;\">\n",
       "      <th></th>\n",
       "      <th>pull_request_id</th>\n",
       "      <th>user_id</th>\n",
       "      <th>comment_id</th>\n",
       "      <th>position</th>\n",
       "      <th>body</th>\n",
       "      <th>commit_id</th>\n",
       "      <th>created_at</th>\n",
       "      <th>ext_ref_id</th>\n",
       "    </tr>\n",
       "  </thead>\n",
       "  <tbody>\n",
       "    <tr>\n",
       "      <th>0</th>\n",
       "      <td>5</td>\n",
       "      <td>3</td>\n",
       "      <td>2717312</td>\n",
       "      <td>11</td>\n",
       "      <td>I'm a little confused by this combination. Cou...</td>\n",
       "      <td>102</td>\n",
       "      <td>2013-01-21 19:38:15</td>\n",
       "      <td>52343f49bd35436de80000c0</td>\n",
       "    </tr>\n",
       "    <tr>\n",
       "      <th>1</th>\n",
       "      <td>5</td>\n",
       "      <td>58</td>\n",
       "      <td>2722940</td>\n",
       "      <td>11</td>\n",
       "      <td>The idea here is that the settings specified i...</td>\n",
       "      <td>102</td>\n",
       "      <td>2013-01-22 08:38:46</td>\n",
       "      <td>52343f49bd35436de80000c1</td>\n",
       "    </tr>\n",
       "    <tr>\n",
       "      <th>2</th>\n",
       "      <td>5</td>\n",
       "      <td>58</td>\n",
       "      <td>2723020</td>\n",
       "      <td>11</td>\n",
       "      <td>...I just test-ran this code again and realize...</td>\n",
       "      <td>102</td>\n",
       "      <td>2013-01-22 08:49:02</td>\n",
       "      <td>52343f49bd35436de80000c2</td>\n",
       "    </tr>\n",
       "    <tr>\n",
       "      <th>3</th>\n",
       "      <td>5</td>\n",
       "      <td>58</td>\n",
       "      <td>2724044</td>\n",
       "      <td>11</td>\n",
       "      <td>Ok, I am pretty new to R so this was an intere...</td>\n",
       "      <td>102</td>\n",
       "      <td>2013-01-22 10:46:03</td>\n",
       "      <td>52343f49bd35436de80000c3</td>\n",
       "    </tr>\n",
       "    <tr>\n",
       "      <th>4</th>\n",
       "      <td>14</td>\n",
       "      <td>1106</td>\n",
       "      <td>4776654</td>\n",
       "      <td>46</td>\n",
       "      <td>You might want to check `eventExpr == 0` just ...</td>\n",
       "      <td>2520</td>\n",
       "      <td>2013-06-19 16:32:14</td>\n",
       "      <td>52344137bd35436de1000459</td>\n",
       "    </tr>\n",
       "  </tbody>\n",
       "</table>\n",
       "</div>"
      ],
      "text/plain": [
       "   pull_request_id  user_id comment_id  position  \\\n",
       "0                5        3    2717312        11   \n",
       "1                5       58    2722940        11   \n",
       "2                5       58    2723020        11   \n",
       "3                5       58    2724044        11   \n",
       "4               14     1106    4776654        46   \n",
       "\n",
       "                                                body  commit_id  \\\n",
       "0  I'm a little confused by this combination. Cou...        102   \n",
       "1  The idea here is that the settings specified i...        102   \n",
       "2  ...I just test-ran this code again and realize...        102   \n",
       "3  Ok, I am pretty new to R so this was an intere...        102   \n",
       "4  You might want to check `eventExpr == 0` just ...       2520   \n",
       "\n",
       "           created_at                ext_ref_id  \n",
       "0 2013-01-21 19:38:15  52343f49bd35436de80000c0  \n",
       "1 2013-01-22 08:38:46  52343f49bd35436de80000c1  \n",
       "2 2013-01-22 08:49:02  52343f49bd35436de80000c2  \n",
       "3 2013-01-22 10:46:03  52343f49bd35436de80000c3  \n",
       "4 2013-06-19 16:32:14  52344137bd35436de1000459  "
      ]
     },
     "execution_count": 8,
     "metadata": {},
     "output_type": "execute_result"
    }
   ],
   "source": [
    "pr_comments.head()"
   ]
  },
  {
   "cell_type": "markdown",
   "metadata": {},
   "source": [
    "### Usuwanie zbędnych danych"
   ]
  },
  {
   "cell_type": "code",
   "execution_count": 9,
   "metadata": {},
   "outputs": [],
   "source": [
    "pr_comments.drop(['position', 'ext_ref_id'], axis=1, inplace=True)"
   ]
  },
  {
   "cell_type": "code",
   "execution_count": 10,
   "metadata": {},
   "outputs": [
    {
     "data": {
      "text/plain": [
       "(54892, 6)"
      ]
     },
     "execution_count": 10,
     "metadata": {},
     "output_type": "execute_result"
    }
   ],
   "source": [
    "pr_comments.shape"
   ]
  },
  {
   "cell_type": "code",
   "execution_count": 11,
   "metadata": {},
   "outputs": [
    {
     "data": {
      "text/plain": [
       "pull_request_id    0\n",
       "user_id            0\n",
       "comment_id         0\n",
       "body               0\n",
       "commit_id          0\n",
       "created_at         0\n",
       "dtype: int64"
      ]
     },
     "execution_count": 11,
     "metadata": {},
     "output_type": "execute_result"
    }
   ],
   "source": [
    "pr_comments.isnull().sum()"
   ]
  },
  {
   "cell_type": "markdown",
   "metadata": {},
   "source": [
    "### Zmiana typów"
   ]
  },
  {
   "cell_type": "code",
   "execution_count": 12,
   "metadata": {},
   "outputs": [
    {
     "data": {
      "text/plain": [
       "pull_request_id             int64\n",
       "user_id                     int64\n",
       "comment_id                 object\n",
       "body                       object\n",
       "commit_id                   int64\n",
       "created_at         datetime64[ns]\n",
       "dtype: object"
      ]
     },
     "execution_count": 12,
     "metadata": {},
     "output_type": "execute_result"
    }
   ],
   "source": [
    "pr_comments.dtypes"
   ]
  },
  {
   "cell_type": "code",
   "execution_count": 13,
   "metadata": {},
   "outputs": [],
   "source": [
    "pr_comments.comment_id = pr_comments.comment_id.astype('int64')"
   ]
  },
  {
   "cell_type": "code",
   "execution_count": 14,
   "metadata": {},
   "outputs": [
    {
     "data": {
      "text/plain": [
       "pull_request_id             int64\n",
       "user_id                     int64\n",
       "comment_id                  int64\n",
       "body                       object\n",
       "commit_id                   int64\n",
       "created_at         datetime64[ns]\n",
       "dtype: object"
      ]
     },
     "execution_count": 14,
     "metadata": {},
     "output_type": "execute_result"
    }
   ],
   "source": [
    "pr_comments.dtypes"
   ]
  },
  {
   "cell_type": "code",
   "execution_count": 15,
   "metadata": {},
   "outputs": [
    {
     "data": {
      "text/plain": [
       "pull_request_id    0\n",
       "user_id            0\n",
       "comment_id         0\n",
       "body               0\n",
       "commit_id          0\n",
       "created_at         0\n",
       "dtype: int64"
      ]
     },
     "execution_count": 15,
     "metadata": {},
     "output_type": "execute_result"
    }
   ],
   "source": [
    "pr_comments.isnull().sum()"
   ]
  },
  {
   "cell_type": "markdown",
   "metadata": {},
   "source": [
    "### Filtrowanie"
   ]
  },
  {
   "cell_type": "markdown",
   "metadata": {},
   "source": [
    "Filtrowanie tylko tych komentarzy, które dotyczą analizowanych pull requestów"
   ]
  },
  {
   "cell_type": "code",
   "execution_count": 16,
   "metadata": {},
   "outputs": [
    {
     "data": {
      "text/html": [
       "<div>\n",
       "<style scoped>\n",
       "    .dataframe tbody tr th:only-of-type {\n",
       "        vertical-align: middle;\n",
       "    }\n",
       "\n",
       "    .dataframe tbody tr th {\n",
       "        vertical-align: top;\n",
       "    }\n",
       "\n",
       "    .dataframe thead th {\n",
       "        text-align: right;\n",
       "    }\n",
       "</style>\n",
       "<table border=\"1\" class=\"dataframe\">\n",
       "  <thead>\n",
       "    <tr style=\"text-align: right;\">\n",
       "      <th></th>\n",
       "      <th>id</th>\n",
       "      <th>base_repo_id</th>\n",
       "      <th>pullreq_id</th>\n",
       "      <th>merged</th>\n",
       "    </tr>\n",
       "  </thead>\n",
       "  <tbody>\n",
       "    <tr>\n",
       "      <th>0</th>\n",
       "      <td>1</td>\n",
       "      <td>4</td>\n",
       "      <td>2</td>\n",
       "      <td>1</td>\n",
       "    </tr>\n",
       "    <tr>\n",
       "      <th>1</th>\n",
       "      <td>2</td>\n",
       "      <td>4</td>\n",
       "      <td>1</td>\n",
       "      <td>0</td>\n",
       "    </tr>\n",
       "    <tr>\n",
       "      <th>2</th>\n",
       "      <td>3</td>\n",
       "      <td>3</td>\n",
       "      <td>12</td>\n",
       "      <td>0</td>\n",
       "    </tr>\n",
       "    <tr>\n",
       "      <th>3</th>\n",
       "      <td>4</td>\n",
       "      <td>3</td>\n",
       "      <td>10</td>\n",
       "      <td>1</td>\n",
       "    </tr>\n",
       "    <tr>\n",
       "      <th>4</th>\n",
       "      <td>5</td>\n",
       "      <td>3</td>\n",
       "      <td>8</td>\n",
       "      <td>1</td>\n",
       "    </tr>\n",
       "  </tbody>\n",
       "</table>\n",
       "</div>"
      ],
      "text/plain": [
       "   id  base_repo_id  pullreq_id  merged\n",
       "0   1             4           2       1\n",
       "1   2             4           1       0\n",
       "2   3             3          12       0\n",
       "3   4             3          10       1\n",
       "4   5             3           8       1"
      ]
     },
     "execution_count": 16,
     "metadata": {},
     "output_type": "execute_result"
    }
   ],
   "source": [
    "pull_requests = pd.read_pickle('../../data/01_data_from_db/pull_requests.pkl')\n",
    "pull_requests.head()"
   ]
  },
  {
   "cell_type": "code",
   "execution_count": 17,
   "metadata": {},
   "outputs": [
    {
     "data": {
      "text/plain": [
       "(54892, 6)"
      ]
     },
     "execution_count": 17,
     "metadata": {},
     "output_type": "execute_result"
    }
   ],
   "source": [
    "pr_comments.shape"
   ]
  },
  {
   "cell_type": "code",
   "execution_count": 18,
   "metadata": {},
   "outputs": [
    {
     "data": {
      "text/plain": [
       "(54892, 6)"
      ]
     },
     "execution_count": 18,
     "metadata": {},
     "output_type": "execute_result"
    }
   ],
   "source": [
    "pr_comments[pr_comments.pull_request_id.isin(pull_requests.id)].shape"
   ]
  },
  {
   "cell_type": "code",
   "execution_count": 19,
   "metadata": {},
   "outputs": [
    {
     "data": {
      "text/plain": [
       "(10236, 6)"
      ]
     },
     "execution_count": 19,
     "metadata": {},
     "output_type": "execute_result"
    }
   ],
   "source": [
    "pr_comments[pr_comments.pull_request_id.isin(pull_requests.pullreq_id)].shape"
   ]
  },
  {
   "cell_type": "code",
   "execution_count": 20,
   "metadata": {},
   "outputs": [],
   "source": [
    "pr_comments = pr_comments[pr_comments.pull_request_id.isin(pull_requests.id)]"
   ]
  },
  {
   "cell_type": "markdown",
   "metadata": {},
   "source": [
    "Ponowne sprawdzenie informacji o zbiorze"
   ]
  },
  {
   "cell_type": "code",
   "execution_count": 21,
   "metadata": {},
   "outputs": [
    {
     "data": {
      "text/plain": [
       "(54892, 6)"
      ]
     },
     "execution_count": 21,
     "metadata": {},
     "output_type": "execute_result"
    }
   ],
   "source": [
    "pr_comments.shape"
   ]
  },
  {
   "cell_type": "code",
   "execution_count": 22,
   "metadata": {},
   "outputs": [
    {
     "name": "stdout",
     "output_type": "stream",
     "text": [
      "<class 'pandas.core.frame.DataFrame'>\n",
      "Int64Index: 54892 entries, 0 to 54891\n",
      "Data columns (total 6 columns):\n",
      " #   Column           Non-Null Count  Dtype         \n",
      "---  ------           --------------  -----         \n",
      " 0   pull_request_id  54892 non-null  int64         \n",
      " 1   user_id          54892 non-null  int64         \n",
      " 2   comment_id       54892 non-null  int64         \n",
      " 3   body             54892 non-null  object        \n",
      " 4   commit_id        54892 non-null  int64         \n",
      " 5   created_at       54892 non-null  datetime64[ns]\n",
      "dtypes: datetime64[ns](1), int64(4), object(1)\n",
      "memory usage: 10.8 MB\n"
     ]
    }
   ],
   "source": [
    "pr_comments.info(memory_usage='deep')"
   ]
  },
  {
   "cell_type": "markdown",
   "metadata": {},
   "source": [
    "### Eksport do `.pkl`"
   ]
  },
  {
   "cell_type": "code",
   "execution_count": 23,
   "metadata": {},
   "outputs": [],
   "source": [
    "pr_comments.to_pickle('../../data/01_data_from_db/pull_requests_comments.pkl')"
   ]
  }
 ],
 "metadata": {
  "kernelspec": {
   "display_name": "Python 3",
   "language": "python",
   "name": "python3"
  },
  "language_info": {
   "codemirror_mode": {
    "name": "ipython",
    "version": 3
   },
   "file_extension": ".py",
   "mimetype": "text/x-python",
   "name": "python",
   "nbconvert_exporter": "python",
   "pygments_lexer": "ipython3",
   "version": "3.7.6"
  }
 },
 "nbformat": 4,
 "nbformat_minor": 2
}
