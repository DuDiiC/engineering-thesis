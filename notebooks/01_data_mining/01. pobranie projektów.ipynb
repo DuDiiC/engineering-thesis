{
 "cells": [
  {
   "cell_type": "markdown",
   "metadata": {},
   "source": [
    "Import niezbędnych bibliotek"
   ]
  },
  {
   "cell_type": "code",
   "execution_count": 1,
   "metadata": {},
   "outputs": [],
   "source": [
    "import pandas as pd\n",
    "\n",
    "from sqlalchemy import create_engine\n",
    "\n",
    "import sys\n",
    "sys.path.insert(1, '../../.')\n",
    "from src import config"
   ]
  },
  {
   "cell_type": "markdown",
   "metadata": {},
   "source": [
    "Tworzenie połączenia z lokalną bazą danych"
   ]
  },
  {
   "cell_type": "code",
   "execution_count": 2,
   "metadata": {},
   "outputs": [],
   "source": [
    "db_connection = create_engine(config.database['db_con_str'])"
   ]
  },
  {
   "cell_type": "markdown",
   "metadata": {},
   "source": [
    "## Pobranie i oczyszczenie danych projektów"
   ]
  },
  {
   "cell_type": "code",
   "execution_count": 3,
   "metadata": {},
   "outputs": [],
   "source": [
    "projects = pd.read_sql('projects', con=db_connection)"
   ]
  },
  {
   "cell_type": "markdown",
   "metadata": {},
   "source": [
    "### Informacje o zbiorze"
   ]
  },
  {
   "cell_type": "code",
   "execution_count": 4,
   "metadata": {},
   "outputs": [
    {
     "data": {
      "text/plain": [
       "(108718, 10)"
      ]
     },
     "execution_count": 4,
     "metadata": {},
     "output_type": "execute_result"
    }
   ],
   "source": [
    "projects.shape"
   ]
  },
  {
   "cell_type": "code",
   "execution_count": 5,
   "metadata": {},
   "outputs": [
    {
     "data": {
      "text/plain": [
       "id                      int64\n",
       "url                    object\n",
       "owner_id                int64\n",
       "name                   object\n",
       "description            object\n",
       "language               object\n",
       "created_at     datetime64[ns]\n",
       "ext_ref_id             object\n",
       "forked_from           float64\n",
       "deleted                 int64\n",
       "dtype: object"
      ]
     },
     "execution_count": 5,
     "metadata": {},
     "output_type": "execute_result"
    }
   ],
   "source": [
    "projects.dtypes"
   ]
  },
  {
   "cell_type": "code",
   "execution_count": 6,
   "metadata": {},
   "outputs": [
    {
     "data": {
      "text/html": [
       "<div>\n",
       "<style scoped>\n",
       "    .dataframe tbody tr th:only-of-type {\n",
       "        vertical-align: middle;\n",
       "    }\n",
       "\n",
       "    .dataframe tbody tr th {\n",
       "        vertical-align: top;\n",
       "    }\n",
       "\n",
       "    .dataframe thead th {\n",
       "        text-align: right;\n",
       "    }\n",
       "</style>\n",
       "<table border=\"1\" class=\"dataframe\">\n",
       "  <thead>\n",
       "    <tr style=\"text-align: right;\">\n",
       "      <th></th>\n",
       "      <th>url</th>\n",
       "      <th>name</th>\n",
       "      <th>description</th>\n",
       "      <th>language</th>\n",
       "      <th>ext_ref_id</th>\n",
       "    </tr>\n",
       "  </thead>\n",
       "  <tbody>\n",
       "    <tr>\n",
       "      <th>count</th>\n",
       "      <td>108718</td>\n",
       "      <td>108718</td>\n",
       "      <td>108718</td>\n",
       "      <td>108616</td>\n",
       "      <td>108718</td>\n",
       "    </tr>\n",
       "    <tr>\n",
       "      <th>unique</th>\n",
       "      <td>108710</td>\n",
       "      <td>1205</td>\n",
       "      <td>1239</td>\n",
       "      <td>19</td>\n",
       "      <td>108710</td>\n",
       "    </tr>\n",
       "    <tr>\n",
       "      <th>top</th>\n",
       "      <td>https://api.github.com/repos/vjovanov/akka</td>\n",
       "      <td>homebrew</td>\n",
       "      <td>Ruby on Rails</td>\n",
       "      <td>JavaScript</td>\n",
       "      <td>5237c11dbd3543c20b0025d4</td>\n",
       "    </tr>\n",
       "    <tr>\n",
       "      <th>freq</th>\n",
       "      <td>2</td>\n",
       "      <td>6784</td>\n",
       "      <td>6434</td>\n",
       "      <td>29526</td>\n",
       "      <td>2</td>\n",
       "    </tr>\n",
       "  </tbody>\n",
       "</table>\n",
       "</div>"
      ],
      "text/plain": [
       "                                               url      name    description  \\\n",
       "count                                       108718    108718         108718   \n",
       "unique                                      108710      1205           1239   \n",
       "top     https://api.github.com/repos/vjovanov/akka  homebrew  Ruby on Rails   \n",
       "freq                                             2      6784           6434   \n",
       "\n",
       "          language                ext_ref_id  \n",
       "count       108616                    108718  \n",
       "unique          19                    108710  \n",
       "top     JavaScript  5237c11dbd3543c20b0025d4  \n",
       "freq         29526                         2  "
      ]
     },
     "execution_count": 6,
     "metadata": {},
     "output_type": "execute_result"
    }
   ],
   "source": [
    "projects.describe(include=['object'])"
   ]
  },
  {
   "cell_type": "code",
   "execution_count": 7,
   "metadata": {},
   "outputs": [
    {
     "name": "stdout",
     "output_type": "stream",
     "text": [
      "<class 'pandas.core.frame.DataFrame'>\n",
      "RangeIndex: 108718 entries, 0 to 108717\n",
      "Data columns (total 10 columns):\n",
      " #   Column       Non-Null Count   Dtype         \n",
      "---  ------       --------------   -----         \n",
      " 0   id           108718 non-null  int64         \n",
      " 1   url          108718 non-null  object        \n",
      " 2   owner_id     108718 non-null  int64         \n",
      " 3   name         108718 non-null  object        \n",
      " 4   description  108718 non-null  object        \n",
      " 5   language     108616 non-null  object        \n",
      " 6   created_at   108718 non-null  datetime64[ns]\n",
      " 7   ext_ref_id   108718 non-null  object        \n",
      " 8   forked_from  108627 non-null  float64       \n",
      " 9   deleted      108718 non-null  int64         \n",
      "dtypes: datetime64[ns](1), float64(1), int64(3), object(5)\n",
      "memory usage: 8.3+ MB\n"
     ]
    }
   ],
   "source": [
    "projects.info()"
   ]
  },
  {
   "cell_type": "code",
   "execution_count": 8,
   "metadata": {},
   "outputs": [
    {
     "name": "stdout",
     "output_type": "stream",
     "text": [
      "<class 'pandas.core.frame.DataFrame'>\n",
      "RangeIndex: 108718 entries, 0 to 108717\n",
      "Data columns (total 10 columns):\n",
      " #   Column       Non-Null Count   Dtype         \n",
      "---  ------       --------------   -----         \n",
      " 0   id           108718 non-null  int64         \n",
      " 1   url          108718 non-null  object        \n",
      " 2   owner_id     108718 non-null  int64         \n",
      " 3   name         108718 non-null  object        \n",
      " 4   description  108718 non-null  object        \n",
      " 5   language     108616 non-null  object        \n",
      " 6   created_at   108718 non-null  datetime64[ns]\n",
      " 7   ext_ref_id   108718 non-null  object        \n",
      " 8   forked_from  108627 non-null  float64       \n",
      " 9   deleted      108718 non-null  int64         \n",
      "dtypes: datetime64[ns](1), float64(1), int64(3), object(5)\n",
      "memory usage: 49.1 MB\n"
     ]
    }
   ],
   "source": [
    "projects.info(memory_usage='deep')"
   ]
  },
  {
   "cell_type": "code",
   "execution_count": 9,
   "metadata": {},
   "outputs": [
    {
     "data": {
      "text/plain": [
       "Index               128\n",
       "id               869744\n",
       "url            11256601\n",
       "owner_id         869744\n",
       "name            7065841\n",
       "description    13224754\n",
       "language        6789744\n",
       "created_at       869744\n",
       "ext_ref_id      8806158\n",
       "forked_from      869744\n",
       "deleted          869744\n",
       "dtype: int64"
      ]
     },
     "execution_count": 9,
     "metadata": {},
     "output_type": "execute_result"
    }
   ],
   "source": [
    "projects.memory_usage(deep=True)"
   ]
  },
  {
   "cell_type": "code",
   "execution_count": 10,
   "metadata": {},
   "outputs": [
    {
     "data": {
      "text/html": [
       "<div>\n",
       "<style scoped>\n",
       "    .dataframe tbody tr th:only-of-type {\n",
       "        vertical-align: middle;\n",
       "    }\n",
       "\n",
       "    .dataframe tbody tr th {\n",
       "        vertical-align: top;\n",
       "    }\n",
       "\n",
       "    .dataframe thead th {\n",
       "        text-align: right;\n",
       "    }\n",
       "</style>\n",
       "<table border=\"1\" class=\"dataframe\">\n",
       "  <thead>\n",
       "    <tr style=\"text-align: right;\">\n",
       "      <th></th>\n",
       "      <th>id</th>\n",
       "      <th>url</th>\n",
       "      <th>owner_id</th>\n",
       "      <th>name</th>\n",
       "      <th>description</th>\n",
       "      <th>language</th>\n",
       "      <th>created_at</th>\n",
       "      <th>ext_ref_id</th>\n",
       "      <th>forked_from</th>\n",
       "      <th>deleted</th>\n",
       "    </tr>\n",
       "  </thead>\n",
       "  <tbody>\n",
       "    <tr>\n",
       "      <th>0</th>\n",
       "      <td>1</td>\n",
       "      <td>https://api.github.com/repos/akka/akka</td>\n",
       "      <td>1</td>\n",
       "      <td>akka</td>\n",
       "      <td>Akka Project</td>\n",
       "      <td>Scala</td>\n",
       "      <td>2009-02-16 12:51:54</td>\n",
       "      <td>52343e2ebd3543bb7f000002</td>\n",
       "      <td>NaN</td>\n",
       "      <td>0</td>\n",
       "    </tr>\n",
       "    <tr>\n",
       "      <th>1</th>\n",
       "      <td>2</td>\n",
       "      <td>https://api.github.com/repos/hadley/devtools</td>\n",
       "      <td>2</td>\n",
       "      <td>devtools</td>\n",
       "      <td>Tools to make an R developer's life easier</td>\n",
       "      <td>R</td>\n",
       "      <td>2010-05-03 04:08:49</td>\n",
       "      <td>52343eecbd35436ddb000002</td>\n",
       "      <td>NaN</td>\n",
       "      <td>0</td>\n",
       "    </tr>\n",
       "    <tr>\n",
       "      <th>2</th>\n",
       "      <td>3</td>\n",
       "      <td>https://api.github.com/repos/johnmyleswhite/Pr...</td>\n",
       "      <td>3</td>\n",
       "      <td>ProjectTemplate</td>\n",
       "      <td>A template utility for R projects that provide...</td>\n",
       "      <td>R</td>\n",
       "      <td>2010-08-24 17:22:36</td>\n",
       "      <td>52343eecbd35436de8000002</td>\n",
       "      <td>NaN</td>\n",
       "      <td>0</td>\n",
       "    </tr>\n",
       "    <tr>\n",
       "      <th>3</th>\n",
       "      <td>4</td>\n",
       "      <td>https://api.github.com/repos/mavam/stat-cookbook</td>\n",
       "      <td>6</td>\n",
       "      <td>stat-cookbook</td>\n",
       "      <td>The probability and statistics cookbook</td>\n",
       "      <td>R</td>\n",
       "      <td>2012-04-23 20:24:37</td>\n",
       "      <td>52343eecbd35436de3000002</td>\n",
       "      <td>NaN</td>\n",
       "      <td>0</td>\n",
       "    </tr>\n",
       "    <tr>\n",
       "      <th>4</th>\n",
       "      <td>5</td>\n",
       "      <td>https://api.github.com/repos/facebook/hiphop-php</td>\n",
       "      <td>8</td>\n",
       "      <td>hiphop-php</td>\n",
       "      <td>Virtual Machine, Runtime, and JIT for PHP</td>\n",
       "      <td>C++</td>\n",
       "      <td>2010-01-02 01:17:06</td>\n",
       "      <td>52343eecbd35436dee000002</td>\n",
       "      <td>NaN</td>\n",
       "      <td>0</td>\n",
       "    </tr>\n",
       "  </tbody>\n",
       "</table>\n",
       "</div>"
      ],
      "text/plain": [
       "   id                                                url  owner_id  \\\n",
       "0   1             https://api.github.com/repos/akka/akka         1   \n",
       "1   2       https://api.github.com/repos/hadley/devtools         2   \n",
       "2   3  https://api.github.com/repos/johnmyleswhite/Pr...         3   \n",
       "3   4   https://api.github.com/repos/mavam/stat-cookbook         6   \n",
       "4   5   https://api.github.com/repos/facebook/hiphop-php         8   \n",
       "\n",
       "              name                                        description  \\\n",
       "0             akka                                       Akka Project   \n",
       "1         devtools         Tools to make an R developer's life easier   \n",
       "2  ProjectTemplate  A template utility for R projects that provide...   \n",
       "3    stat-cookbook            The probability and statistics cookbook   \n",
       "4       hiphop-php          Virtual Machine, Runtime, and JIT for PHP   \n",
       "\n",
       "  language          created_at                ext_ref_id  forked_from  deleted  \n",
       "0    Scala 2009-02-16 12:51:54  52343e2ebd3543bb7f000002          NaN        0  \n",
       "1        R 2010-05-03 04:08:49  52343eecbd35436ddb000002          NaN        0  \n",
       "2        R 2010-08-24 17:22:36  52343eecbd35436de8000002          NaN        0  \n",
       "3        R 2012-04-23 20:24:37  52343eecbd35436de3000002          NaN        0  \n",
       "4      C++ 2010-01-02 01:17:06  52343eecbd35436dee000002          NaN        0  "
      ]
     },
     "execution_count": 10,
     "metadata": {},
     "output_type": "execute_result"
    }
   ],
   "source": [
    "projects.head()"
   ]
  },
  {
   "cell_type": "markdown",
   "metadata": {},
   "source": [
    "### Usuwanie zbędnych danych"
   ]
  },
  {
   "cell_type": "code",
   "execution_count": 11,
   "metadata": {},
   "outputs": [
    {
     "data": {
      "text/plain": [
       "(0, 10)"
      ]
     },
     "execution_count": 11,
     "metadata": {},
     "output_type": "execute_result"
    }
   ],
   "source": [
    "projects[projects.deleted != 0].shape"
   ]
  },
  {
   "cell_type": "markdown",
   "metadata": {},
   "source": [
    "Skoro wszystkie wiersze mają tę samą wartość w kolumnie `deleted` (ustawioną na `0`), można bez straty informacji tę kolumnę usunąć. Usunwam również inne kolumny, nie mające znaczenia dla analizy."
   ]
  },
  {
   "cell_type": "code",
   "execution_count": 12,
   "metadata": {},
   "outputs": [],
   "source": [
    "projects.drop(['deleted', 'ext_ref_id', 'url', 'owner_id', 'description', 'forked_from'], axis=1, inplace=True)"
   ]
  },
  {
   "cell_type": "code",
   "execution_count": 13,
   "metadata": {},
   "outputs": [
    {
     "data": {
      "text/html": [
       "<div>\n",
       "<style scoped>\n",
       "    .dataframe tbody tr th:only-of-type {\n",
       "        vertical-align: middle;\n",
       "    }\n",
       "\n",
       "    .dataframe tbody tr th {\n",
       "        vertical-align: top;\n",
       "    }\n",
       "\n",
       "    .dataframe thead th {\n",
       "        text-align: right;\n",
       "    }\n",
       "</style>\n",
       "<table border=\"1\" class=\"dataframe\">\n",
       "  <thead>\n",
       "    <tr style=\"text-align: right;\">\n",
       "      <th></th>\n",
       "      <th>id</th>\n",
       "      <th>name</th>\n",
       "      <th>language</th>\n",
       "      <th>created_at</th>\n",
       "    </tr>\n",
       "  </thead>\n",
       "  <tbody>\n",
       "    <tr>\n",
       "      <th>0</th>\n",
       "      <td>1</td>\n",
       "      <td>akka</td>\n",
       "      <td>Scala</td>\n",
       "      <td>2009-02-16 12:51:54</td>\n",
       "    </tr>\n",
       "    <tr>\n",
       "      <th>1</th>\n",
       "      <td>2</td>\n",
       "      <td>devtools</td>\n",
       "      <td>R</td>\n",
       "      <td>2010-05-03 04:08:49</td>\n",
       "    </tr>\n",
       "    <tr>\n",
       "      <th>2</th>\n",
       "      <td>3</td>\n",
       "      <td>ProjectTemplate</td>\n",
       "      <td>R</td>\n",
       "      <td>2010-08-24 17:22:36</td>\n",
       "    </tr>\n",
       "    <tr>\n",
       "      <th>3</th>\n",
       "      <td>4</td>\n",
       "      <td>stat-cookbook</td>\n",
       "      <td>R</td>\n",
       "      <td>2012-04-23 20:24:37</td>\n",
       "    </tr>\n",
       "    <tr>\n",
       "      <th>4</th>\n",
       "      <td>5</td>\n",
       "      <td>hiphop-php</td>\n",
       "      <td>C++</td>\n",
       "      <td>2010-01-02 01:17:06</td>\n",
       "    </tr>\n",
       "  </tbody>\n",
       "</table>\n",
       "</div>"
      ],
      "text/plain": [
       "   id             name language          created_at\n",
       "0   1             akka    Scala 2009-02-16 12:51:54\n",
       "1   2         devtools        R 2010-05-03 04:08:49\n",
       "2   3  ProjectTemplate        R 2010-08-24 17:22:36\n",
       "3   4    stat-cookbook        R 2012-04-23 20:24:37\n",
       "4   5       hiphop-php      C++ 2010-01-02 01:17:06"
      ]
     },
     "execution_count": 13,
     "metadata": {},
     "output_type": "execute_result"
    }
   ],
   "source": [
    "projects.head()"
   ]
  },
  {
   "cell_type": "code",
   "execution_count": 14,
   "metadata": {},
   "outputs": [
    {
     "data": {
      "text/plain": [
       "(108718, 4)"
      ]
     },
     "execution_count": 14,
     "metadata": {},
     "output_type": "execute_result"
    }
   ],
   "source": [
    "projects.shape"
   ]
  },
  {
   "cell_type": "markdown",
   "metadata": {},
   "source": [
    "Usunięcie wierszy z brakującymi danymi, na podstawie których nie będzie można prowadzić sensownych analiz"
   ]
  },
  {
   "cell_type": "code",
   "execution_count": 15,
   "metadata": {},
   "outputs": [
    {
     "data": {
      "text/plain": [
       "id              0\n",
       "name            0\n",
       "language      102\n",
       "created_at      0\n",
       "dtype: int64"
      ]
     },
     "execution_count": 15,
     "metadata": {},
     "output_type": "execute_result"
    }
   ],
   "source": [
    "projects.isnull().sum()"
   ]
  },
  {
   "cell_type": "code",
   "execution_count": 16,
   "metadata": {},
   "outputs": [],
   "source": [
    "projects.dropna(subset=['language'], how='any', inplace=True)"
   ]
  },
  {
   "cell_type": "code",
   "execution_count": 17,
   "metadata": {},
   "outputs": [
    {
     "data": {
      "text/plain": [
       "(108616, 4)"
      ]
     },
     "execution_count": 17,
     "metadata": {},
     "output_type": "execute_result"
    }
   ],
   "source": [
    "projects.shape"
   ]
  },
  {
   "cell_type": "code",
   "execution_count": 18,
   "metadata": {},
   "outputs": [
    {
     "data": {
      "text/plain": [
       "id            0\n",
       "name          0\n",
       "language      0\n",
       "created_at    0\n",
       "dtype: int64"
      ]
     },
     "execution_count": 18,
     "metadata": {},
     "output_type": "execute_result"
    }
   ],
   "source": [
    "projects.isnull().sum()"
   ]
  },
  {
   "cell_type": "markdown",
   "metadata": {},
   "source": [
    "### Zmiana typów\n",
    "Domyślnie dane przechowywane napisów przechowywane są jako `object`. Jednak, jeśli jest ograniczona ilość napisów, tak jak w przypadku kolumny `language`, można zmienić typ na `category` optymalizując pamięć."
   ]
  },
  {
   "cell_type": "code",
   "execution_count": 19,
   "metadata": {},
   "outputs": [
    {
     "data": {
      "text/plain": [
       "id                     int64\n",
       "name                  object\n",
       "language              object\n",
       "created_at    datetime64[ns]\n",
       "dtype: object"
      ]
     },
     "execution_count": 19,
     "metadata": {},
     "output_type": "execute_result"
    }
   ],
   "source": [
    "projects.dtypes"
   ]
  },
  {
   "cell_type": "code",
   "execution_count": 20,
   "metadata": {},
   "outputs": [
    {
     "data": {
      "text/plain": [
       "Index          868928\n",
       "id             868928\n",
       "name          7059027\n",
       "language      6787296\n",
       "created_at     868928\n",
       "dtype: int64"
      ]
     },
     "execution_count": 20,
     "metadata": {},
     "output_type": "execute_result"
    }
   ],
   "source": [
    "projects.memory_usage(deep=True)"
   ]
  },
  {
   "cell_type": "code",
   "execution_count": 21,
   "metadata": {},
   "outputs": [],
   "source": [
    "projects.language = projects.language.astype('category')\n",
    "projects.created_at = projects.created_at.astype('datetime64[ns]')"
   ]
  },
  {
   "cell_type": "markdown",
   "metadata": {},
   "source": [
    "### Eksport do pliku `.pkl` wstępnie oczyszczonych danych projektów\n",
    "> UWAGA! lepiej wczytywać dane do `.pkl`, a nie do `.csv`, ponieważ w tym wypadku zapisujemy całą strukturę, nie tracimy informacji o typach i nie mamy problemu z indeksami. Sam plik zajmuje również zdecydowanie mniej pamięci."
   ]
  },
  {
   "cell_type": "code",
   "execution_count": 22,
   "metadata": {},
   "outputs": [],
   "source": [
    "projects.to_pickle('../../data/01_data_from_db/projects.pkl')"
   ]
  }
 ],
 "metadata": {
  "kernelspec": {
   "display_name": "Python 3",
   "language": "python",
   "name": "python3"
  },
  "language_info": {
   "codemirror_mode": {
    "name": "ipython",
    "version": 3
   },
   "file_extension": ".py",
   "mimetype": "text/x-python",
   "name": "python",
   "nbconvert_exporter": "python",
   "pygments_lexer": "ipython3",
   "version": "3.6.9"
  }
 },
 "nbformat": 4,
 "nbformat_minor": 2
}
