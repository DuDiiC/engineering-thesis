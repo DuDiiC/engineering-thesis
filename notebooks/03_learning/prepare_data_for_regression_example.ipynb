{
 "cells": [
  {
   "cell_type": "code",
   "execution_count": 1,
   "metadata": {},
   "outputs": [],
   "source": [
    "import pandas as pd\n",
    "\n",
    "from sklearn.preprocessing import StandardScaler\n",
    "from sklearn.model_selection import train_test_split"
   ]
  },
  {
   "cell_type": "markdown",
   "metadata": {},
   "source": [
    "### Przygotowanie danych do uczenia i podzielenie na zbiór uczący i zbiór testowy"
   ]
  },
  {
   "cell_type": "code",
   "execution_count": 2,
   "metadata": {},
   "outputs": [],
   "source": [
    "data = pd.read_pickle(\"../../data/03_training_set/training_set.pkl\")\n",
    "X = data.drop(['new_watchers'], axis=1)\n",
    "y = data['new_watchers']"
   ]
  },
  {
   "cell_type": "markdown",
   "metadata": {},
   "source": [
    "Standaryzacja danych - pozwala na poprawienie wyników uczenia i przyspieszenie obliczeń"
   ]
  },
  {
   "cell_type": "code",
   "execution_count": 3,
   "metadata": {},
   "outputs": [
    {
     "data": {
      "text/plain": [
       "array([[-1.10809584, -0.03015276, -0.02863816, ...,  7.10688161,\n",
       "        -0.01097345, -0.05105899],\n",
       "       [-1.01069671, -0.03015276, -0.02863816, ...,  7.10688161,\n",
       "        -0.01097345, -0.05105899],\n",
       "       [-0.91329758, -0.03015276, -0.02863816, ...,  7.10688161,\n",
       "        -0.01097345, -0.05105899],\n",
       "       ...,\n",
       "       [-1.01069671, -0.03015276, -0.02863816, ..., -0.14070869,\n",
       "        -0.01097345, -0.05105899],\n",
       "       [-0.91329758, -0.03015276, -0.02863816, ..., -0.14070869,\n",
       "        -0.01097345, -0.05105899],\n",
       "       [-0.81589845, -0.03015276, -0.02863816, ..., -0.14070869,\n",
       "        -0.01097345, -0.05105899]])"
      ]
     },
     "execution_count": 3,
     "metadata": {},
     "output_type": "execute_result"
    }
   ],
   "source": [
    "s = StandardScaler()\n",
    "X = s.fit_transform(X)\n",
    "X"
   ]
  },
  {
   "cell_type": "markdown",
   "metadata": {},
   "source": [
    "Podział na dane treningowe i dane testowe, standardowo w stosunku 80:20"
   ]
  },
  {
   "cell_type": "code",
   "execution_count": 4,
   "metadata": {},
   "outputs": [],
   "source": [
    "X_train, X_test, y_train, y_test = \\\n",
    "    train_test_split(X, y, test_size=0.20, random_state=42)"
   ]
  }
 ],
 "metadata": {
  "kernelspec": {
   "display_name": "Python 3",
   "language": "python",
   "name": "python3"
  },
  "language_info": {
   "codemirror_mode": {
    "name": "ipython",
    "version": 3
   },
   "file_extension": ".py",
   "mimetype": "text/x-python",
   "name": "python",
   "nbconvert_exporter": "python",
   "pygments_lexer": "ipython3",
   "version": "3.7.6"
  }
 },
 "nbformat": 4,
 "nbformat_minor": 4
}
