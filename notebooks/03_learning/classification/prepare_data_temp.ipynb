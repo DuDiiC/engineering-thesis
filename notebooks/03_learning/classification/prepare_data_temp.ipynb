{
 "cells": [
  {
   "cell_type": "code",
   "execution_count": 1,
   "metadata": {},
   "outputs": [],
   "source": [
    "import pandas as pd\n",
    "import numpy as np\n",
    "\n",
    "from sklearn.preprocessing import StandardScaler, LabelEncoder\n",
    "from sklearn.model_selection import train_test_split\n",
    "from sklearn.metrics import mean_squared_error, classification_report, confusion_matrix\n",
    "\n",
    "import seaborn as sns"
   ]
  },
  {
   "cell_type": "markdown",
   "metadata": {},
   "source": [
    "Dla celów algorytmów klasyfikujących, należy stworzyć kilka klas, do których będa mogły być przypisywane dane uczące. Zdecydowałem się na podział możliwie równo oddający poszczególne klasy, nie licząc najbardziej licznej - zdecydowana większość wierszy ma przyrost obserwujących równy `0` - oraz klasy odpowadającej najbardziej popularnym repozytoriom, których jest stosunkowo mało."
   ]
  },
  {
   "cell_type": "code",
   "execution_count": 2,
   "metadata": {},
   "outputs": [
    {
     "data": {
      "text/plain": [
       "0.brak           1807749\n",
       "3.średnio            791\n",
       "4.dużo               656\n",
       "1.bardzo mało        636\n",
       "2.mało               607\n",
       "5.bardzo dużo        162\n",
       "Name: new_watchers, dtype: int64"
      ]
     },
     "execution_count": 2,
     "metadata": {},
     "output_type": "execute_result"
    }
   ],
   "source": [
    "data = pd.read_pickle(\"../../../data/03_training_set/training_set.pkl\")\n",
    "bins = (-np.inf, 0, 15, 35, 75, 200, np.inf)\n",
    "group_names = ['0.brak', '1.bardzo mało', '2.mało', '3.średnio', '4.dużo', '5.bardzo dużo']\n",
    "data['new_watchers'] = pd.cut(data['new_watchers'], bins=bins, labels=group_names)\n",
    "data['new_watchers'].value_counts()"
   ]
  },
  {
   "cell_type": "code",
   "execution_count": 3,
   "metadata": {},
   "outputs": [
    {
     "data": {
      "text/plain": [
       "[5.bardzo dużo, 3.średnio, 2.mało, 1.bardzo mało, 0.brak, 4.dużo]\n",
       "Categories (6, object): [0.brak < 1.bardzo mało < 2.mało < 3.średnio < 4.dużo < 5.bardzo dużo]"
      ]
     },
     "execution_count": 3,
     "metadata": {},
     "output_type": "execute_result"
    }
   ],
   "source": [
    "data['new_watchers'].unique()"
   ]
  },
  {
   "cell_type": "code",
   "execution_count": 4,
   "metadata": {},
   "outputs": [],
   "source": [
    "labels = LabelEncoder()\n",
    "data['new_watchers'] = labels.fit_transform(data['new_watchers'])"
   ]
  },
  {
   "cell_type": "code",
   "execution_count": 5,
   "metadata": {},
   "outputs": [
    {
     "data": {
      "text/plain": [
       "array(['0.brak', '1.bardzo mało', '2.mało', '3.średnio', '4.dużo',\n",
       "       '5.bardzo dużo'], dtype=object)"
      ]
     },
     "execution_count": 5,
     "metadata": {},
     "output_type": "execute_result"
    }
   ],
   "source": [
    "labels.classes_"
   ]
  },
  {
   "cell_type": "code",
   "execution_count": 6,
   "metadata": {},
   "outputs": [
    {
     "data": {
      "text/plain": [
       "0    1807749\n",
       "3        791\n",
       "4        656\n",
       "1        636\n",
       "2        607\n",
       "5        162\n",
       "Name: new_watchers, dtype: int64"
      ]
     },
     "execution_count": 6,
     "metadata": {},
     "output_type": "execute_result"
    }
   ],
   "source": [
    "data['new_watchers'].value_counts()"
   ]
  },
  {
   "cell_type": "code",
   "execution_count": 7,
   "metadata": {},
   "outputs": [
    {
     "data": {
      "text/plain": [
       "<matplotlib.axes._subplots.AxesSubplot at 0x257767d7248>"
      ]
     },
     "execution_count": 7,
     "metadata": {},
     "output_type": "execute_result"
    },
    {
     "data": {
      "image/png": "[encoded data removed]",
      "text/plain": [
       "<Figure size 432x288 with 1 Axes>"
      ]
     },
     "metadata": {
      "needs_background": "light"
     },
     "output_type": "display_data"
    }
   ],
   "source": [
    "sns.countplot(data[data['new_watchers'] != 0]['new_watchers'])"
   ]
  },
  {
   "cell_type": "code",
   "execution_count": 8,
   "metadata": {},
   "outputs": [],
   "source": [
    "X = data.drop(['new_watchers'], axis=1)\n",
    "y = data['new_watchers']\n",
    "\n",
    "s = StandardScaler()\n",
    "X = s.fit_transform(X)\n",
    "\n",
    "X_train, X_test, y_train, y_test = \\\n",
    "    train_test_split(X, y, test_size=0.40, random_state=42)"
   ]
  },
  {
   "cell_type": "code",
   "execution_count": 9,
   "metadata": {},
   "outputs": [
    {
     "data": {
      "text/plain": [
       "0    723077\n",
       "3       297\n",
       "4       280\n",
       "1       263\n",
       "2       258\n",
       "5        66\n",
       "Name: new_watchers, dtype: int64"
      ]
     },
     "execution_count": 9,
     "metadata": {},
     "output_type": "execute_result"
    }
   ],
   "source": [
    "y_test.value_counts()"
   ]
  }
 ],
 "metadata": {
  "kernelspec": {
   "display_name": "Python 3",
   "language": "python",
   "name": "python3"
  },
  "language_info": {
   "codemirror_mode": {
    "name": "ipython",
    "version": 3
   },
   "file_extension": ".py",
   "mimetype": "text/x-python",
   "name": "python",
   "nbconvert_exporter": "python",
   "pygments_lexer": "ipython3",
   "version": "3.7.6"
  }
 },
 "nbformat": 4,
 "nbformat_minor": 4
}
