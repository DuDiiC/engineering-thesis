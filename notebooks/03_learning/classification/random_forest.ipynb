{
 "cells": [
  {
   "cell_type": "code",
   "execution_count": 1,
   "metadata": {},
   "outputs": [],
   "source": [
    "import pandas as pd\n",
    "import numpy as np\n",
    "\n",
    "from sklearn.preprocessing import StandardScaler, LabelEncoder\n",
    "from sklearn.model_selection import train_test_split\n",
    "from sklearn.metrics import mean_squared_error, classification_report, confusion_matrix"
   ]
  },
  {
   "cell_type": "code",
   "execution_count": 2,
   "metadata": {},
   "outputs": [],
   "source": [
    "data = pd.read_pickle(\"../../../data/03_training_set/training_set.pkl\")\n",
    "\n",
    "bins = (-np.inf, 0, 15, 35, 75, 200, np.inf)\n",
    "group_names = ['0.brak', '1.bardzo mało', '2.mało', '3.średnio', '4.dużo', '5.bardzo dużo']\n",
    "data['new_watchers'] = pd.cut(data['new_watchers'], bins=bins, labels=group_names)\n",
    "\n",
    "labels = LabelEncoder()\n",
    "data['new_watchers'] = labels.fit_transform(data['new_watchers'])\n",
    "\n",
    "X = data.drop(['new_watchers'], axis=1)\n",
    "y = data['new_watchers']\n",
    "\n",
    "s = StandardScaler()\n",
    "X = s.fit_transform(X)\n",
    "\n",
    "X_train, X_test, y_train, y_test = \\\n",
    "    train_test_split(X, y, test_size=0.20, random_state=42)"
   ]
  },
  {
   "cell_type": "markdown",
   "metadata": {},
   "source": [
    "# Las losowy\n",
    "\n",
    "W przypadku lasu losowego testowałem wiele wariantów, jednak nie ma znaczących różnic w wynikach, zatem zdecydowałem się zostawić tylko domyślny zestaw parametrów."
   ]
  },
  {
   "cell_type": "code",
   "execution_count": 3,
   "metadata": {},
   "outputs": [],
   "source": [
    "from sklearn.ensemble import RandomForestClassifier"
   ]
  },
  {
   "cell_type": "code",
   "execution_count": 4,
   "metadata": {},
   "outputs": [],
   "source": [
    "def random_forest_summary(X_train, X_test, y_train, y_test, \n",
    "                          n_jobs=4, max_depth=None, n_estimators=100):\n",
    "    random_forest = RandomForestClassifier(n_jobs=n_jobs, verbose=1, n_estimators=n_estimators, max_depth=max_depth)\n",
    "    random_forest.fit(X_train, y_train)\n",
    "    \n",
    "    # podsumowanie wynikow\n",
    "    y_pred_default = random_forest.predict(X_test).astype(int)\n",
    "    print(f'mean_squared_error: {mean_squared_error(y_test, y_pred_default)}')\n",
    "    print(f'train score: {random_forest.score(X_train, y_train)}')\n",
    "    print(f'test score: {random_forest.score(X_test, y_test)}')\n",
    "    print(classification_report(y_test, y_pred_default))\n",
    "    print(confusion_matrix(y_test, y_pred_default))"
   ]
  },
  {
   "cell_type": "code",
   "execution_count": 5,
   "metadata": {},
   "outputs": [
    {
     "name": "stderr",
     "output_type": "stream",
     "text": [
      "[Parallel(n_jobs=4)]: Using backend ThreadingBackend with 4 concurrent workers.\n",
      "[Parallel(n_jobs=4)]: Done  42 tasks      | elapsed:   40.0s\n",
      "[Parallel(n_jobs=4)]: Done 100 out of 100 | elapsed:  2.2min finished\n",
      "[Parallel(n_jobs=4)]: Using backend ThreadingBackend with 4 concurrent workers.\n",
      "[Parallel(n_jobs=4)]: Done  42 tasks      | elapsed:    1.1s\n",
      "[Parallel(n_jobs=4)]: Done 100 out of 100 | elapsed:    2.7s finished\n"
     ]
    },
    {
     "name": "stdout",
     "output_type": "stream",
     "text": [
      "mean_squared_error: 0.0013393313284786024\n"
     ]
    },
    {
     "name": "stderr",
     "output_type": "stream",
     "text": [
      "[Parallel(n_jobs=4)]: Using backend ThreadingBackend with 4 concurrent workers.\n",
      "[Parallel(n_jobs=4)]: Done  42 tasks      | elapsed:    4.7s\n",
      "[Parallel(n_jobs=4)]: Done 100 out of 100 | elapsed:   11.1s finished\n"
     ]
    },
    {
     "name": "stdout",
     "output_type": "stream",
     "text": [
      "train score: 0.9999827405280017\n"
     ]
    },
    {
     "name": "stderr",
     "output_type": "stream",
     "text": [
      "[Parallel(n_jobs=4)]: Using backend ThreadingBackend with 4 concurrent workers.\n",
      "[Parallel(n_jobs=4)]: Done  42 tasks      | elapsed:    1.2s\n",
      "[Parallel(n_jobs=4)]: Done 100 out of 100 | elapsed:    2.8s finished\n"
     ]
    },
    {
     "name": "stdout",
     "output_type": "stream",
     "text": [
      "test score: 0.9996133888948722\n",
      "              precision    recall  f1-score   support\n",
      "\n",
      "           0       1.00      1.00      1.00    361543\n",
      "           1       0.80      0.82      0.81       133\n",
      "           2       0.70      0.69      0.70       125\n",
      "           3       0.78      0.80      0.79       162\n",
      "           4       0.87      0.83      0.85       129\n",
      "           5       0.86      0.41      0.56        29\n",
      "\n",
      "    accuracy                           1.00    362121\n",
      "   macro avg       0.84      0.76      0.78    362121\n",
      "weighted avg       1.00      1.00      1.00    362121\n",
      "\n",
      "[[361537      6      0      0      0      0]\n",
      " [     8    109     15      1      0      0]\n",
      " [     0     19     86     18      2      0]\n",
      " [     0      2     20    130     10      0]\n",
      " [     1      0      1     18    107      2]\n",
      " [    13      0      0      0      4     12]]\n"
     ]
    }
   ],
   "source": [
    "random_forest_summary(X_train, X_test, y_train, y_test)"
   ]
  }
 ],
 "metadata": {
  "kernelspec": {
   "display_name": "Python 3",
   "language": "python",
   "name": "python3"
  },
  "language_info": {
   "codemirror_mode": {
    "name": "ipython",
    "version": 3
   },
   "file_extension": ".py",
   "mimetype": "text/x-python",
   "name": "python",
   "nbconvert_exporter": "python",
   "pygments_lexer": "ipython3",
   "version": "3.7.6"
  }
 },
 "nbformat": 4,
 "nbformat_minor": 4
}
