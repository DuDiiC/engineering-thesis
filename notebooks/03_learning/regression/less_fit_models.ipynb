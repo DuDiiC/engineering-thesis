{
 "cells": [
  {
   "cell_type": "code",
   "execution_count": 1,
   "metadata": {},
   "outputs": [],
   "source": [
    "import pandas as pd\n",
    "\n",
    "from sklearn.preprocessing import StandardScaler\n",
    "from sklearn.model_selection import train_test_split\n",
    "from sklearn.metrics import mean_squared_error\n",
    "\n",
    "import matplotlib.pyplot as plt"
   ]
  },
  {
   "cell_type": "code",
   "execution_count": 2,
   "metadata": {},
   "outputs": [],
   "source": [
    "data = pd.read_pickle(\"../../../data/03_training_set/training_set.pkl\")\n",
    "X = data.drop(['new_watchers'], axis=1)\n",
    "y = data['new_watchers']\n",
    "s = StandardScaler()\n",
    "X = s.fit_transform(X)\n",
    "X_train, X_test, y_train, y_test = \\\n",
    "    train_test_split(X, y, test_size=0.20, random_state=42)"
   ]
  },
  {
   "cell_type": "markdown",
   "metadata": {},
   "source": [
    "# Inne modele\n",
    "\n",
    "Na próbę chciałem uruchomić uczenie na modelach niedostosowanych do regresji danych którymi dysponuje. Zarówno w przypadku regresji liniowej, jak i maszyny wektorów nośnych, wyniki są na tyle złe, że nie ma podstaw wykonywać ich głębszej analizy."
   ]
  },
  {
   "cell_type": "markdown",
   "metadata": {},
   "source": [
    "### Regresja liniowa"
   ]
  },
  {
   "cell_type": "code",
   "execution_count": 3,
   "metadata": {},
   "outputs": [],
   "source": [
    "from sklearn.linear_model import LinearRegression"
   ]
  },
  {
   "cell_type": "code",
   "execution_count": 4,
   "metadata": {},
   "outputs": [
    {
     "name": "stdout",
     "output_type": "stream",
     "text": [
      "mean_squared_error: 257.800307226784\n",
      "train score: 0.018711741434586315\n",
      "test score: 0.032321256156874534\n"
     ]
    },
    {
     "data": {
      "image/png": "[encoded data removed]",
      "text/plain": [
       "<Figure size 432x288 with 1 Axes>"
      ]
     },
     "metadata": {
      "needs_background": "light"
     },
     "output_type": "display_data"
    }
   ],
   "source": [
    "linear_regression = LinearRegression()\n",
    "linear_regression.fit(X_train, y_train)\n",
    "\n",
    "# podsumowanie wynikow\n",
    "y_pred_default = linear_regression.predict(X_test)\n",
    "print(f'mean_squared_error: {mean_squared_error(y_test, y_pred_default)}')\n",
    "print(f'train score: {linear_regression.score(X_train, y_train)}')\n",
    "print(f'test score: {linear_regression.score(X_test, y_test)}')\n",
    "    \n",
    "# wizualizacja\n",
    "pred_default = linear_regression.predict(X_test).astype(int)\n",
    "temp_default = y_test.values > 0\n",
    "plt.scatter(y_test.values[temp_default], pred_default[temp_default], marker=\".\")\n",
    "plt.xlabel(\"original\", fontsize=12)\n",
    "plt.ylabel(\"predictions\", fontsize=12)\n",
    "plt.show()"
   ]
  },
  {
   "cell_type": "markdown",
   "metadata": {},
   "source": [
    "### Maszyna wektorów nośnych"
   ]
  },
  {
   "cell_type": "code",
   "execution_count": 5,
   "metadata": {},
   "outputs": [],
   "source": [
    "from sklearn.svm import LinearSVR"
   ]
  },
  {
   "cell_type": "code",
   "execution_count": 6,
   "metadata": {
    "scrolled": false
   },
   "outputs": [
    {
     "name": "stdout",
     "output_type": "stream",
     "text": [
      "[LibLinear]"
     ]
    },
    {
     "name": "stderr",
     "output_type": "stream",
     "text": [
      "D:\\Programy\\Anaconda3\\lib\\site-packages\\sklearn\\svm\\_base.py:947: ConvergenceWarning: Liblinear failed to converge, increase the number of iterations.\n",
      "  \"the number of iterations.\", ConvergenceWarning)\n"
     ]
    },
    {
     "name": "stdout",
     "output_type": "stream",
     "text": [
      "mean_squared_error: 261.21189646548\n",
      "train score: 0.014887801020131874\n",
      "test score: 0.019515521266473823\n"
     ]
    },
    {
     "data": {
      "image/png": "[encoded data removed]",
      "text/plain": [
       "<Figure size 432x288 with 1 Axes>"
      ]
     },
     "metadata": {
      "needs_background": "light"
     },
     "output_type": "display_data"
    }
   ],
   "source": [
    "linear_svr = LinearSVR(verbose=1)\n",
    "linear_svr.fit(X_train, y_train)\n",
    "\n",
    "# podsumowanie wynikow\n",
    "y_pred_default = linear_svr.predict(X_test)\n",
    "print(f'mean_squared_error: {mean_squared_error(y_test, y_pred_default)}')\n",
    "print(f'train score: {linear_svr.score(X_train, y_train)}')\n",
    "print(f'test score: {linear_svr.score(X_test, y_test)}')\n",
    "    \n",
    "# wizualizacja\n",
    "pred_default = linear_svr.predict(X_test).astype(int)\n",
    "temp_default = y_test.values > 0\n",
    "plt.scatter(y_test.values[temp_default], pred_default[temp_default], marker=\".\")\n",
    "plt.xlabel(\"original\", fontsize=12)\n",
    "plt.ylabel(\"predictions\", fontsize=12)\n",
    "plt.show()"
   ]
  }
 ],
 "metadata": {
  "kernelspec": {
   "display_name": "Python 3",
   "language": "python",
   "name": "python3"
  },
  "language_info": {
   "codemirror_mode": {
    "name": "ipython",
    "version": 3
   },
   "file_extension": ".py",
   "mimetype": "text/x-python",
   "name": "python",
   "nbconvert_exporter": "python",
   "pygments_lexer": "ipython3",
   "version": "3.7.6"
  }
 },
 "nbformat": 4,
 "nbformat_minor": 4
}
