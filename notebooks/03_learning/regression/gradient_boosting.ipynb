{
 "cells": [
  {
   "cell_type": "code",
   "execution_count": 1,
   "metadata": {},
   "outputs": [],
   "source": [
    "import pandas as pd\n",
    "\n",
    "from sklearn.preprocessing import StandardScaler\n",
    "from sklearn.model_selection import train_test_split\n",
    "from sklearn.metrics import mean_squared_error\n",
    "\n",
    "import matplotlib.pyplot as plt"
   ]
  },
  {
   "cell_type": "code",
   "execution_count": 2,
   "metadata": {},
   "outputs": [],
   "source": [
    "data = pd.read_pickle(\"../../../data/03_training_set/training_set.pkl\")\n",
    "X = data.drop(['new_watchers'], axis=1)\n",
    "y = data['new_watchers']\n",
    "s = StandardScaler()\n",
    "X = s.fit_transform(X)\n",
    "X_train, X_test, y_train, y_test = \\\n",
    "    train_test_split(X, y, test_size=0.20, random_state=42)"
   ]
  },
  {
   "cell_type": "markdown",
   "metadata": {},
   "source": [
    "# Wzmocnienie gradientowe\n",
    "\n",
    "Zastosowałem dwie wersje:\n",
    "- z parametrami domyślnymi dostarczonymi w scikit-learn\n",
    "- z własnymi wartościami parametrów, testowane różne wersje (jedna zostawiona dla przykładu), jednak żadna z nich nie prowadziła do otrzymania wyników znacząco lepszych niż w implementacji domyślnej"
   ]
  },
  {
   "cell_type": "code",
   "execution_count": 3,
   "metadata": {},
   "outputs": [
    {
     "name": "stdout",
     "output_type": "stream",
     "text": [
      "      Iter       Train Loss   Remaining Time \n",
      "         1         400.1644           12.41m\n",
      "         2         376.2620           12.54m\n",
      "         3         356.8874           12.54m\n",
      "         4         328.6535           12.62m\n",
      "         5         305.7785           12.78m\n",
      "         6         287.2410           12.79m\n",
      "         7         272.2149           12.60m\n",
      "         8         259.9419           12.42m\n",
      "         9         249.6393           12.24m\n",
      "        10         240.6755           12.11m\n",
      "        20         205.0413           10.79m\n",
      "        30         187.3229            9.45m\n",
      "        40         174.5518            8.02m\n",
      "        50         163.9233            6.64m\n",
      "        60         155.8432            5.31m\n",
      "        70         148.2351            3.98m\n",
      "        80         140.8215            2.70m\n",
      "        90         137.8043            1.35m\n",
      "       100         133.4542            0.00s\n"
     ]
    }
   ],
   "source": [
    "from sklearn.ensemble import GradientBoostingRegressor\n",
    "gbr_default = GradientBoostingRegressor(verbose=1)\n",
    "gbr_default.fit(X_train, y_train)\n",
    "y_pred_default = gbr_default.predict(X_test)"
   ]
  },
  {
   "cell_type": "code",
   "execution_count": 4,
   "metadata": {},
   "outputs": [
    {
     "data": {
      "text/plain": [
       "195.97317191061262"
      ]
     },
     "execution_count": 4,
     "metadata": {},
     "output_type": "execute_result"
    }
   ],
   "source": [
    "mean_squared_error(y_test, y_pred_default)"
   ]
  },
  {
   "cell_type": "code",
   "execution_count": 5,
   "metadata": {},
   "outputs": [
    {
     "data": {
      "text/plain": [
       "0.6894046942150063"
      ]
     },
     "execution_count": 5,
     "metadata": {},
     "output_type": "execute_result"
    }
   ],
   "source": [
    "gbr_default.score(X_train, y_train)"
   ]
  },
  {
   "cell_type": "code",
   "execution_count": 6,
   "metadata": {},
   "outputs": [
    {
     "data": {
      "text/plain": [
       "0.2643954739177593"
      ]
     },
     "execution_count": 6,
     "metadata": {},
     "output_type": "execute_result"
    }
   ],
   "source": [
    "gbr_default.score(X_test, y_test)"
   ]
  },
  {
   "cell_type": "code",
   "execution_count": 16,
   "metadata": {},
   "outputs": [
    {
     "data": {
      "image/png": "[encoded data removed]",
      "text/plain": [
       "<Figure size 432x288 with 1 Axes>"
      ]
     },
     "metadata": {
      "needs_background": "light"
     },
     "output_type": "display_data"
    }
   ],
   "source": [
    "pred_default = gbr_default.predict(X_test).astype(int)\n",
    "temp_default = y_test.values > 0\n",
    "plt.scatter(y_test.values[temp_default], pred_default[temp_default])\n",
    "plt.xlabel(\"original\", fontsize=12)\n",
    "plt.ylabel(\"predictions\", fontsize=12)\n",
    "plt.axis('scaled')\n",
    "plt.show()"
   ]
  },
  {
   "cell_type": "code",
   "execution_count": 8,
   "metadata": {},
   "outputs": [
    {
     "name": "stdout",
     "output_type": "stream",
     "text": [
      "      Iter       Train Loss   Remaining Time \n",
      "         1         424.6388           22.73m\n",
      "         2         419.7055           23.17m\n",
      "         3         414.8703           22.61m\n",
      "         4         410.1314           21.80m\n",
      "         5         405.4866           21.27m\n",
      "         6         400.9342           20.91m\n",
      "         7         396.4723           20.59m\n",
      "         8         392.0992           20.27m\n",
      "         9         387.8130           19.93m\n",
      "        10         383.6121           19.68m\n",
      "        20         345.9282           17.78m\n",
      "        30         315.0355           15.69m\n",
      "        40         289.5897           13.81m\n",
      "        50         268.5569           11.62m\n",
      "        60         251.1144            9.18m\n",
      "        70         236.4238            6.60m\n",
      "        80         223.8489            4.25m\n",
      "        90         211.9386            2.07m\n",
      "       100         201.1521            0.00s\n"
     ]
    }
   ],
   "source": [
    "gbr_custom = GradientBoostingRegressor(verbose=1, \n",
    "                                       max_depth=5, \n",
    "                                       learning_rate=0.01,\n",
    "                                       min_samples_split=3,\n",
    "                                       n_estimators=100)\n",
    "gbr_custom.fit(X_train, y_train)\n",
    "y_pred_custom = gbr_custom.predict(X_test)"
   ]
  },
  {
   "cell_type": "code",
   "execution_count": 9,
   "metadata": {},
   "outputs": [
    {
     "data": {
      "text/plain": [
       "192.53966880386696"
      ]
     },
     "execution_count": 9,
     "metadata": {},
     "output_type": "execute_result"
    }
   ],
   "source": [
    "mean_squared_error(y_test, y_pred_custom)"
   ]
  },
  {
   "cell_type": "code",
   "execution_count": 10,
   "metadata": {},
   "outputs": [
    {
     "data": {
      "text/plain": [
       "0.5318476733807187"
      ]
     },
     "execution_count": 10,
     "metadata": {},
     "output_type": "execute_result"
    }
   ],
   "source": [
    "gbr_custom.score(X_train, y_train)"
   ]
  },
  {
   "cell_type": "code",
   "execution_count": 11,
   "metadata": {},
   "outputs": [
    {
     "data": {
      "text/plain": [
       "0.27728346466167375"
      ]
     },
     "execution_count": 11,
     "metadata": {},
     "output_type": "execute_result"
    }
   ],
   "source": [
    "gbr_custom.score(X_test, y_test)"
   ]
  },
  {
   "cell_type": "code",
   "execution_count": 17,
   "metadata": {},
   "outputs": [
    {
     "data": {
      "image/png": "[encoded data removed]",
      "text/plain": [
       "<Figure size 432x288 with 1 Axes>"
      ]
     },
     "metadata": {
      "needs_background": "light"
     },
     "output_type": "display_data"
    }
   ],
   "source": [
    "pred_custom = gbr_custom.predict(X_test).astype(int)\n",
    "temp_custom = y_test.values > 0\n",
    "plt.scatter(y_test.values[temp_custom], pred_custom[temp_custom])\n",
    "plt.xlabel(\"original\", fontsize=12)\n",
    "plt.ylabel(\"predictions\", fontsize=12)\n",
    "plt.axis('scaled')\n",
    "plt.show()"
   ]
  },
  {
   "cell_type": "code",
   "execution_count": 13,
   "metadata": {},
   "outputs": [
    {
     "data": {
      "text/plain": [
       "['gbc_custom.joblib']"
      ]
     },
     "execution_count": 13,
     "metadata": {},
     "output_type": "execute_result"
    }
   ],
   "source": [
    "from joblib import dump\n",
    "dump(gbr_default, 'gbr_default.joblib')\n",
    "dump(gbr_custom, 'gbc_custom.joblib')"
   ]
  }
 ],
 "metadata": {
  "kernelspec": {
   "display_name": "Python 3",
   "language": "python",
   "name": "python3"
  },
  "language_info": {
   "codemirror_mode": {
    "name": "ipython",
    "version": 3
   },
   "file_extension": ".py",
   "mimetype": "text/x-python",
   "name": "python",
   "nbconvert_exporter": "python",
   "pygments_lexer": "ipython3",
   "version": "3.7.6"
  }
 },
 "nbformat": 4,
 "nbformat_minor": 4
}
